{
 "cells": [
  {
   "cell_type": "markdown",
   "metadata": {},
   "source": [
    "# Open Establishments amidst Enhanced Community Quarantine\n",
    "**Twelve Baskets Analytics, Inc.**<br>\n",
    "**Authors: Sam Catapusan, Albert Yucol, Richelle Yap, Jefferson Tan, Jason Tan, Cindy Saw**\n",
    "\n",
    "The purpose of this visualization is to approximate the need of public transportation in/out of a city to support the expected open establishments during the enhanced community quarantine (announced March 16, 2020). **key insights here.**\n",
    "\n",
    "During the Q&A portion of the Malacañang Press Conference with secretaries Eduardo Año (DILG), Menardo Guevarra (DOJ), Karlo Nograles (Cabinet Secretary), Francisco Duque (DOH), a number of questions were brought up regarding establishments expected to remain open, and the closure of mass public transport (and provision of alternatives). \n",
    "\n",
    "These establishments are:\n",
    "* Public markets\n",
    "* Supermarkets\n",
    "* Groceries\n",
    "* Convenience stores\n",
    "* Hospitals\n",
    "* Medical clinics\n",
    "* Pharmacies and drug stores\n",
    "* Food preparation and delivery services\n",
    "* Water-refilling stations\n",
    "* Manufacturing and processing plants of basic food products and medicines\n",
    "* Banks\n",
    "* Money transfer services\n",
    "* Power, energy, water and telecommunications supplies and facilities\n",
    "\n",
    "_source: https://www.gmanetwork.com/news/news/nation/729941/enhanced-community-quarantine-in-luzon-vs-covid-19-in-effect-march-17-2020/story/_\n",
    "\n",
    "We will source the data from Open Street Map (OSM) and visualize it using the imported packages below. \n",
    "\n",
    "## Assumptions\n",
    "1. Floor area is highly correlated to the number of employees.\n",
    "2. Number of employees are highly correlated to the needed provided transportation.\n",
    "\n",
    "## Limitations\n",
    "1. Does not include media personnel\n",
    "2. Does not consider cities as hubs between other cities\n",
    "3. Notably, some establishments have higher employee density by containing multiple floors (ex. hospitals). This study does not consider that.\n",
    "4. Completeness and accuracy of data sourced from Open Street Map"
   ]
  },
  {
   "cell_type": "code",
   "execution_count": 6,
   "metadata": {},
   "outputs": [],
   "source": [
    "'''\n",
    "Proposed flow of study:\n",
    "1. Map out all establishments per city. Color per establishment type. \n",
    "Save as different images. \n",
    "\n",
    "2. Create a gdf of all establishments per city. Note down important measures:\n",
    "  a. Establishments total floor area\n",
    "  b. Floor area per establishment type\n",
    "  c. Establishments floor area / Total floor area\n",
    "  d. Establishments floor area / Total city population\n",
    "\n",
    "3. Do same for total Metro Manila, \n",
    "visualization of metro manila should be divided to its cities, \n",
    "one color per city\n",
    "\n",
    "'''\n",
    "pass"
   ]
  },
  {
   "cell_type": "code",
   "execution_count": null,
   "metadata": {},
   "outputs": [],
   "source": []
  }
 ],
 "metadata": {
  "kernelspec": {
   "display_name": "Python 3",
   "language": "python",
   "name": "python3"
  },
  "language_info": {
   "codemirror_mode": {
    "name": "ipython",
    "version": 3
   },
   "file_extension": ".py",
   "mimetype": "text/x-python",
   "name": "python",
   "nbconvert_exporter": "python",
   "pygments_lexer": "ipython3",
   "version": "3.7.4"
  }
 },
 "nbformat": 4,
 "nbformat_minor": 2
}
